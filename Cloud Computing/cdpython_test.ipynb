{
 "cells": [
  {
   "cell_type": "code",
   "execution_count": 9,
   "id": "db93eb23",
   "metadata": {},
   "outputs": [
    {
     "name": "stdout",
     "output_type": "stream",
     "text": [
      "     sepallength  sepalwidth  petallength  petalwidth\n",
      "0            5.1         3.5          1.4         0.2\n",
      "1            4.9         3.0          1.4         0.2\n",
      "2            4.7         3.2          1.3         0.2\n",
      "3            4.6         3.1          1.5         0.2\n",
      "4            5.0         3.6          1.4         0.2\n",
      "..           ...         ...          ...         ...\n",
      "145          6.7         3.0          5.2         2.3\n",
      "146          6.3         2.5          5.0         1.9\n",
      "147          6.5         3.0          5.2         2.0\n",
      "148          6.2         3.4          5.4         2.3\n",
      "149          5.9         3.0          5.1         1.8\n",
      "\n",
      "[150 rows x 4 columns]\n"
     ]
    }
   ],
   "source": [
    "from sklearn.datasets import fetch_openml\n",
    "import numpy as np\n",
    "\n",
    "# Descargamos la primera versión del dataset IRIS y almacenamos los datos en un dataframe\n",
    "iris = fetch_openml(name=\"iris\", version=1)['data']\n",
    "# Imprimimos el dataset IRIS descargado\n",
    "print(iris)"
   ]
  },
  {
   "cell_type": "code",
   "execution_count": 10,
   "id": "54cd78a6",
   "metadata": {},
   "outputs": [
    {
     "name": "stdout",
     "output_type": "stream",
     "text": [
      "sepallength\n",
      "5.843333333333334\n",
      "sepalwidth\n",
      "3.0540000000000003\n",
      "petallength\n",
      "3.758666666666666\n",
      "petalwidth\n",
      "1.1986666666666668\n"
     ]
    }
   ],
   "source": [
    "# Calculamos la media de las columnas de las columnas numéricas\n",
    "for column in iris.columns:\n",
    "    print(column)\n",
    "    print(np.mean(np.array(iris[column].values)))"
   ]
  }
 ],
 "metadata": {
  "kernelspec": {
   "display_name": "Python 3 (ipykernel)",
   "language": "python",
   "name": "python3"
  },
  "language_info": {
   "codemirror_mode": {
    "name": "ipython",
    "version": 3
   },
   "file_extension": ".py",
   "mimetype": "text/x-python",
   "name": "python",
   "nbconvert_exporter": "python",
   "pygments_lexer": "ipython3",
   "version": "3.10.2"
  }
 },
 "nbformat": 4,
 "nbformat_minor": 5
}
